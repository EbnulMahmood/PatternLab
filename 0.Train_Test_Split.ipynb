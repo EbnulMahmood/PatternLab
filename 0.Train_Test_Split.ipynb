{
 "cells": [
  {
   "cell_type": "code",
   "execution_count": null,
   "metadata": {},
   "outputs": [],
   "source": [
    "!pip install sklearn\n",
    "!pip install sksurv"
   ]
  },
  {
   "cell_type": "code",
   "execution_count": 1,
   "metadata": {},
   "outputs": [],
   "source": [
    "import numpy as np\n",
    "import matplotlib.pyplot as plt\n",
    "%matplotlib inline\n",
    "import pandas as pd\n",
    "\n",
    "from sklearn.impute import SimpleImputer\n",
    "from sklearn.pipeline import make_pipeline\n",
    "from sklearn.model_selection import train_test_split\n",
    "\n",
    "from sksurv.datasets import load_flchain\n",
    "from sksurv.linear_model import CoxPHSurvivalAnalysis\n",
    "from sksurv.preprocessing import OneHotEncoder\n",
    "from sksurv.util import Surv\n",
    "from sksurv.metrics import (concordance_index_censored,\n",
    "                            concordance_index_ipcw,\n",
    "                            cumulative_dynamic_auc)\n",
    "\n",
    "plt.rcParams['figure.figsize'] = [7.2, 4.8]"
   ]
  },
  {
   "cell_type": "markdown",
   "metadata": {},
   "source": [
    "we are going to use data from a study that investigated to which extent the serum immunoglobulin free light chain (FLC) assay can be used predict overall survival. The dataset has 7874 subjects and 9 features; the endpoint is death, which occurred for 2169 subjects (27.5%). This is a stratified random sample containing 1/2 of the subjects from a study of the relationship between serum free light chain (FLC) and mortality. The original sample contains samples on approximately 2/3 of the residents of Olmsted County aged 50 or greater."
   ]
  },
  {
   "cell_type": "markdown",
   "metadata": {},
   "source": [
    "A data frame with 7874 persons containing the following variables.\n",
    "\n",
    "age= (age in years)\n",
    "sex= (F=female, M=male)\n",
    "sample.yr= (the calendar year in which a blood sample was obtained)\n",
    "kappa= (serum free light chain, kappa portion)\n",
    "lambda= (serum free light chain, lambda portion)\n",
    "flc.grp= (the FLC group for the subject, as used in the original analysis)\n",
    "creatinine= (serum creatinine)\n",
    "mgus= (1 if the subject had been diagnosed with monoclonal gammapothy (MGUS))\n",
    "futime= (days from enrollment until death. Note that there are 3 subjects whose\n",
    "         sample was obtained on their death date.)\n",
    "death= (0=alive at last contact date, 1=dead)\n",
    "chapter= (for those who died, a grouping of their primary cause of death by chapter\n",
    "          headings of the International Code of Diseases ICD-9)"
   ]
  },
  {
   "cell_type": "markdown",
   "metadata": {},
   "source": [
    "First, we are loading the data and split it into train and test set to evaluate how well markers generalize."
   ]
  },
  {
   "cell_type": "code",
   "execution_count": 2,
   "metadata": {},
   "outputs": [],
   "source": [
    "x, y = load_flchain()\n",
    "\n",
    "x_train, x_test, y_train, y_test = train_test_split(x, y, test_size=0.2, random_state=0)"
   ]
  },
  {
   "cell_type": "markdown",
   "metadata": {},
   "source": [
    "\n",
    "Serum creatinine measurements are missing for some patients, therefore we are just going to impute these values with the mean using scikit-learn's SimpleImputer."
   ]
  },
  {
   "cell_type": "code",
   "execution_count": 3,
   "metadata": {},
   "outputs": [],
   "source": [
    "num_columns = ['age', 'creatinine', 'kappa', 'lambda']\n",
    "\n",
    "imputer = SimpleImputer().fit(x_train.loc[:, num_columns])\n",
    "x_train = imputer.transform(x_train.loc[:, num_columns])\n",
    "x_test = imputer.transform(x_test.loc[:, num_columns])"
   ]
  },
  {
   "cell_type": "code",
   "execution_count": null,
   "metadata": {},
   "outputs": [],
   "source": []
  }
 ],
 "metadata": {
  "kernelspec": {
   "display_name": "Python 3",
   "language": "python",
   "name": "python3"
  },
  "language_info": {
   "codemirror_mode": {
    "name": "ipython",
    "version": 3
   },
   "file_extension": ".py",
   "mimetype": "text/x-python",
   "name": "python",
   "nbconvert_exporter": "python",
   "pygments_lexer": "ipython3",
   "version": "3.7.3"
  }
 },
 "nbformat": 4,
 "nbformat_minor": 2
}
