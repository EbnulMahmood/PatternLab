{
 "cells": [
  {
   "cell_type": "code",
   "execution_count": 26,
   "metadata": {},
   "outputs": [],
   "source": [
    "import numpy as np\n",
    "import matplotlib.pyplot as plt\n",
    "%matplotlib inline\n",
    "import pandas as pd"
   ]
  },
  {
   "cell_type": "code",
   "execution_count": 27,
   "metadata": {},
   "outputs": [],
   "source": [
    "df = pd.read_csv(\"flchain.csv\")\n",
    "\n",
    "cols= ['age', 'sex', 'sample.yr', 'kappa', 'lambda', 'flc.grp', 'creatinine', 'mgus', 'futime', 'death']\n",
    "df = df[cols]\n",
    "#fill NaN value with Mediam value\n",
    "df['creatinine'] = df['creatinine'].fillna(df['creatinine'].median())\n",
    "#Let F = 1, M = 0\n",
    "d = {'F':0, 'M':1}\n",
    "df['sex'] = df['sex'].apply(lambda x:d[x])"
   ]
  },
  {
   "cell_type": "code",
   "execution_count": 28,
   "metadata": {},
   "outputs": [
    {
     "data": {
      "text/html": [
       "<div>\n",
       "<style scoped>\n",
       "    .dataframe tbody tr th:only-of-type {\n",
       "        vertical-align: middle;\n",
       "    }\n",
       "\n",
       "    .dataframe tbody tr th {\n",
       "        vertical-align: top;\n",
       "    }\n",
       "\n",
       "    .dataframe thead th {\n",
       "        text-align: right;\n",
       "    }\n",
       "</style>\n",
       "<table border=\"1\" class=\"dataframe\">\n",
       "  <thead>\n",
       "    <tr style=\"text-align: right;\">\n",
       "      <th></th>\n",
       "      <th>age</th>\n",
       "      <th>sex</th>\n",
       "      <th>sample.yr</th>\n",
       "      <th>kappa</th>\n",
       "      <th>lambda</th>\n",
       "      <th>flc.grp</th>\n",
       "      <th>creatinine</th>\n",
       "      <th>mgus</th>\n",
       "      <th>futime</th>\n",
       "    </tr>\n",
       "  </thead>\n",
       "  <tbody>\n",
       "    <tr>\n",
       "      <th>0</th>\n",
       "      <td>97</td>\n",
       "      <td>0</td>\n",
       "      <td>1997</td>\n",
       "      <td>5.70</td>\n",
       "      <td>4.860</td>\n",
       "      <td>10</td>\n",
       "      <td>1.7</td>\n",
       "      <td>0</td>\n",
       "      <td>85</td>\n",
       "    </tr>\n",
       "    <tr>\n",
       "      <th>1</th>\n",
       "      <td>92</td>\n",
       "      <td>0</td>\n",
       "      <td>2000</td>\n",
       "      <td>0.87</td>\n",
       "      <td>0.683</td>\n",
       "      <td>1</td>\n",
       "      <td>0.9</td>\n",
       "      <td>0</td>\n",
       "      <td>1281</td>\n",
       "    </tr>\n",
       "    <tr>\n",
       "      <th>2</th>\n",
       "      <td>94</td>\n",
       "      <td>0</td>\n",
       "      <td>1997</td>\n",
       "      <td>4.36</td>\n",
       "      <td>3.850</td>\n",
       "      <td>10</td>\n",
       "      <td>1.4</td>\n",
       "      <td>0</td>\n",
       "      <td>69</td>\n",
       "    </tr>\n",
       "    <tr>\n",
       "      <th>3</th>\n",
       "      <td>92</td>\n",
       "      <td>0</td>\n",
       "      <td>1996</td>\n",
       "      <td>2.42</td>\n",
       "      <td>2.220</td>\n",
       "      <td>9</td>\n",
       "      <td>1.0</td>\n",
       "      <td>0</td>\n",
       "      <td>115</td>\n",
       "    </tr>\n",
       "    <tr>\n",
       "      <th>4</th>\n",
       "      <td>93</td>\n",
       "      <td>0</td>\n",
       "      <td>1996</td>\n",
       "      <td>1.32</td>\n",
       "      <td>1.690</td>\n",
       "      <td>6</td>\n",
       "      <td>1.1</td>\n",
       "      <td>0</td>\n",
       "      <td>1039</td>\n",
       "    </tr>\n",
       "  </tbody>\n",
       "</table>\n",
       "</div>"
      ],
      "text/plain": [
       "   age  sex  sample.yr  kappa  lambda  flc.grp  creatinine  mgus  futime\n",
       "0   97    0       1997   5.70   4.860       10         1.7     0      85\n",
       "1   92    0       2000   0.87   0.683        1         0.9     0    1281\n",
       "2   94    0       1997   4.36   3.850       10         1.4     0      69\n",
       "3   92    0       1996   2.42   2.220        9         1.0     0     115\n",
       "4   93    0       1996   1.32   1.690        6         1.1     0    1039"
      ]
     },
     "execution_count": 28,
     "metadata": {},
     "output_type": "execute_result"
    }
   ],
   "source": [
    "data_train=(df.loc[df['death']==1]).copy()\n",
    "data_train.drop(['death'],1,inplace=True)\n",
    "feature=[c for c in data_train.columns if c not in ['age']]\n",
    "target=['age']\n",
    "\n",
    "data_train.head()"
   ]
  },
  {
   "cell_type": "code",
   "execution_count": 29,
   "metadata": {},
   "outputs": [],
   "source": [
    "train=data_train[:]\n",
    "val=data_train[:]"
   ]
  },
  {
   "cell_type": "code",
   "execution_count": 30,
   "metadata": {},
   "outputs": [],
   "source": [
    "from keras.layers import Activation, Dense, Dropout\n",
    "from sklearn.metrics import mean_absolute_error\n",
    "from keras.models import Sequential"
   ]
  },
  {
   "cell_type": "code",
   "execution_count": 31,
   "metadata": {},
   "outputs": [
    {
     "name": "stdout",
     "output_type": "stream",
     "text": [
      "Epoch 1/19\n",
      "2169/2169 [==============================] - 0s 204us/step - loss: 11.9773 - mean_absolute_error: 11.9773\n",
      "Epoch 2/19\n",
      "2169/2169 [==============================] - 0s 112us/step - loss: 8.8105 - mean_absolute_error: 8.8105A: 0s - loss: 9.3233 - mean_absolute_error: 9.32\n",
      "Epoch 3/19\n",
      "2169/2169 [==============================] - 0s 101us/step - loss: 8.5876 - mean_absolute_error: 8.5876\n",
      "Epoch 4/19\n",
      "2169/2169 [==============================] - 0s 100us/step - loss: 8.4648 - mean_absolute_error: 8.4648\n",
      "Epoch 5/19\n",
      "2169/2169 [==============================] - 0s 100us/step - loss: 8.6211 - mean_absolute_error: 8.6211\n",
      "Epoch 6/19\n",
      "2169/2169 [==============================] - 0s 100us/step - loss: 8.7414 - mean_absolute_error: 8.7414\n",
      "Epoch 7/19\n",
      "2169/2169 [==============================] - 0s 102us/step - loss: 8.4254 - mean_absolute_error: 8.4254\n",
      "Epoch 8/19\n",
      "2169/2169 [==============================] - 0s 99us/step - loss: 8.5350 - mean_absolute_error: 8.5350\n",
      "Epoch 9/19\n",
      "2169/2169 [==============================] - 0s 101us/step - loss: 8.4897 - mean_absolute_error: 8.4897\n",
      "Epoch 10/19\n",
      "2169/2169 [==============================] - 0s 104us/step - loss: 8.5527 - mean_absolute_error: 8.5527\n",
      "Epoch 11/19\n",
      "2169/2169 [==============================] - 0s 111us/step - loss: 8.3914 - mean_absolute_error: 8.3914\n",
      "Epoch 12/19\n",
      "2169/2169 [==============================] - 0s 109us/step - loss: 8.4769 - mean_absolute_error: 8.4769\n",
      "Epoch 13/19\n",
      "2169/2169 [==============================] - 0s 103us/step - loss: 8.3043 - mean_absolute_error: 8.3043\n",
      "Epoch 14/19\n",
      "2169/2169 [==============================] - 0s 102us/step - loss: 8.2854 - mean_absolute_error: 8.2854\n",
      "Epoch 15/19\n",
      "2169/2169 [==============================] - 0s 105us/step - loss: 8.3217 - mean_absolute_error: 8.3217\n",
      "Epoch 16/19\n",
      "2169/2169 [==============================] - 0s 110us/step - loss: 8.4646 - mean_absolute_error: 8.4646\n",
      "Epoch 17/19\n",
      "2169/2169 [==============================] - 0s 106us/step - loss: 8.3592 - mean_absolute_error: 8.3592\n",
      "Epoch 18/19\n",
      "2169/2169 [==============================] - 0s 110us/step - loss: 8.4410 - mean_absolute_error: 8.4410\n",
      "Epoch 19/19\n",
      "2169/2169 [==============================] - 0s 122us/step - loss: 8.2637 - mean_absolute_error: 8.2637\n",
      "8.187425461272701\n"
     ]
    }
   ],
   "source": [
    "NN_model = Sequential()\n",
    "NN_model.add(Dense(32, kernel_initializer='normal'))\n",
    "NN_model.add(Dense(1, kernel_initializer='normal'))    \n",
    "NN_model.add(Activation('linear'))\n",
    "NN_model.compile(loss='mean_absolute_error', optimizer='adam', metrics=['mean_absolute_error'])\n",
    "\n",
    "history=NN_model.fit(train[feature].values, train[target].values, epochs=19, batch_size=10)\n",
    "\n",
    "\n",
    "preds = NN_model.predict(val[feature].values) \n",
    "score = mean_absolute_error(val[target].values, preds)\n",
    "print(score)"
   ]
  },
  {
   "cell_type": "code",
   "execution_count": 32,
   "metadata": {},
   "outputs": [
    {
     "data": {
      "image/png": "[encoded data removed]",
      "text/plain": [
       "<Figure size 432x288 with 1 Axes>"
      ]
     },
     "metadata": {
      "needs_background": "light"
     },
     "output_type": "display_data"
    }
   ],
   "source": [
    "fig2, ax_loss = plt.subplots()\n",
    "plt.xlabel('Epoch')\n",
    "plt.ylabel('Loss')\n",
    "plt.title('Model- Loss')\n",
    "plt.legend(['Training', 'Validation'], loc='upper right')\n",
    "plt.plot(history.history['loss'])\n",
    "plt.plot(history.history['mean_absolute_error'])\n",
    "plt.show()"
   ]
  },
  {
   "cell_type": "code",
   "execution_count": 36,
   "metadata": {},
   "outputs": [],
   "source": [
    "# me=np.array([24, 1, 1997, 5.79, 4.5466, 9, 1.5, 0, 44])\n",
    "# data_test=(df.loc[df['death']==0]).copy()\n",
    "# data_test.drop(['death'],1,inplace=True)\n",
    "# data_test.loc[-1] = me\n",
    "# estimation = NN_model.predict(data_test[feature].values)"
   ]
  },
  {
   "cell_type": "code",
   "execution_count": 37,
   "metadata": {},
   "outputs": [],
   "source": [
    "# estimation[-1]\n",
    "# print(\"age: {}\".format(estimation[-1]))"
   ]
  },
  {
   "cell_type": "code",
   "execution_count": null,
   "metadata": {},
   "outputs": [],
   "source": []
  }
 ],
 "metadata": {
  "kernelspec": {
   "display_name": "Python 3",
   "language": "python",
   "name": "python3"
  },
  "language_info": {
   "codemirror_mode": {
    "name": "ipython",
    "version": 3
   },
   "file_extension": ".py",
   "mimetype": "text/x-python",
   "name": "python",
   "nbconvert_exporter": "python",
   "pygments_lexer": "ipython3",
   "version": "3.7.3"
  }
 },
 "nbformat": 4,
 "nbformat_minor": 2
}
