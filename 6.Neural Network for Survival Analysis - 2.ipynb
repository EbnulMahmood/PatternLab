{
 "cells": [
  {
   "cell_type": "code",
   "execution_count": 44,
   "metadata": {},
   "outputs": [],
   "source": [
    "import numpy as np\n",
    "import matplotlib.pyplot as plt\n",
    "%matplotlib inline\n",
    "import pandas as pd\n",
    "import seaborn as sns"
   ]
  },
  {
   "cell_type": "code",
   "execution_count": 45,
   "metadata": {},
   "outputs": [],
   "source": [
    "df = pd.read_csv(\"flchain.csv\")\n",
    "\n",
    "cols= ['age', 'sex', 'sample.yr', 'kappa', 'lambda', 'flc.grp', 'creatinine', 'mgus', 'futime', 'death']\n",
    "df = df[cols]\n",
    "#fill NaN value with Mediam value\n",
    "df['creatinine'] = df['creatinine'].fillna(df['creatinine'].median())\n",
    "#Let F = 1, M = 0\n",
    "d = {'F':0, 'M':1}\n",
    "df['sex'] = df['sex'].apply(lambda x:d[x])"
   ]
  },
  {
   "cell_type": "code",
   "execution_count": 46,
   "metadata": {},
   "outputs": [
    {
     "data": {
      "text/html": [
       "<div>\n",
       "<style scoped>\n",
       "    .dataframe tbody tr th:only-of-type {\n",
       "        vertical-align: middle;\n",
       "    }\n",
       "\n",
       "    .dataframe tbody tr th {\n",
       "        vertical-align: top;\n",
       "    }\n",
       "\n",
       "    .dataframe thead th {\n",
       "        text-align: right;\n",
       "    }\n",
       "</style>\n",
       "<table border=\"1\" class=\"dataframe\">\n",
       "  <thead>\n",
       "    <tr style=\"text-align: right;\">\n",
       "      <th></th>\n",
       "      <th>age</th>\n",
       "      <th>sex</th>\n",
       "      <th>sample.yr</th>\n",
       "      <th>kappa</th>\n",
       "      <th>lambda</th>\n",
       "      <th>flc.grp</th>\n",
       "      <th>creatinine</th>\n",
       "      <th>mgus</th>\n",
       "      <th>futime</th>\n",
       "    </tr>\n",
       "  </thead>\n",
       "  <tbody>\n",
       "    <tr>\n",
       "      <th>0</th>\n",
       "      <td>97</td>\n",
       "      <td>0</td>\n",
       "      <td>1997</td>\n",
       "      <td>5.70</td>\n",
       "      <td>4.860</td>\n",
       "      <td>10</td>\n",
       "      <td>1.7</td>\n",
       "      <td>0</td>\n",
       "      <td>85</td>\n",
       "    </tr>\n",
       "    <tr>\n",
       "      <th>1</th>\n",
       "      <td>92</td>\n",
       "      <td>0</td>\n",
       "      <td>2000</td>\n",
       "      <td>0.87</td>\n",
       "      <td>0.683</td>\n",
       "      <td>1</td>\n",
       "      <td>0.9</td>\n",
       "      <td>0</td>\n",
       "      <td>1281</td>\n",
       "    </tr>\n",
       "    <tr>\n",
       "      <th>2</th>\n",
       "      <td>94</td>\n",
       "      <td>0</td>\n",
       "      <td>1997</td>\n",
       "      <td>4.36</td>\n",
       "      <td>3.850</td>\n",
       "      <td>10</td>\n",
       "      <td>1.4</td>\n",
       "      <td>0</td>\n",
       "      <td>69</td>\n",
       "    </tr>\n",
       "    <tr>\n",
       "      <th>3</th>\n",
       "      <td>92</td>\n",
       "      <td>0</td>\n",
       "      <td>1996</td>\n",
       "      <td>2.42</td>\n",
       "      <td>2.220</td>\n",
       "      <td>9</td>\n",
       "      <td>1.0</td>\n",
       "      <td>0</td>\n",
       "      <td>115</td>\n",
       "    </tr>\n",
       "    <tr>\n",
       "      <th>4</th>\n",
       "      <td>93</td>\n",
       "      <td>0</td>\n",
       "      <td>1996</td>\n",
       "      <td>1.32</td>\n",
       "      <td>1.690</td>\n",
       "      <td>6</td>\n",
       "      <td>1.1</td>\n",
       "      <td>0</td>\n",
       "      <td>1039</td>\n",
       "    </tr>\n",
       "  </tbody>\n",
       "</table>\n",
       "</div>"
      ],
      "text/plain": [
       "   age  sex  sample.yr  kappa  lambda  flc.grp  creatinine  mgus  futime\n",
       "0   97    0       1997   5.70   4.860       10         1.7     0      85\n",
       "1   92    0       2000   0.87   0.683        1         0.9     0    1281\n",
       "2   94    0       1997   4.36   3.850       10         1.4     0      69\n",
       "3   92    0       1996   2.42   2.220        9         1.0     0     115\n",
       "4   93    0       1996   1.32   1.690        6         1.1     0    1039"
      ]
     },
     "execution_count": 46,
     "metadata": {},
     "output_type": "execute_result"
    }
   ],
   "source": [
    "data_train=(df.loc[df['death']==1]).copy()\n",
    "data_train.drop(['death'],1,inplace=True)\n",
    "feature=[c for c in data_train.columns if c not in ['age']]\n",
    "target=['age']\n",
    "\n",
    "data_train.head()"
   ]
  },
  {
   "cell_type": "code",
   "execution_count": 47,
   "metadata": {},
   "outputs": [],
   "source": [
    "train=data_train[:]\n",
    "val=data_train[:]"
   ]
  },
  {
   "cell_type": "code",
   "execution_count": 48,
   "metadata": {},
   "outputs": [],
   "source": [
    "from keras.layers import Activation, Dense, Dropout\n",
    "from sklearn.metrics import mean_absolute_error\n",
    "from keras.models import Sequential"
   ]
  },
  {
   "cell_type": "code",
   "execution_count": 49,
   "metadata": {},
   "outputs": [
    {
     "name": "stdout",
     "output_type": "stream",
     "text": [
      "Epoch 1/19\n",
      "2169/2169 [==============================] - 0s 200us/step - loss: 9.4404 - mean_absolute_error: 9.4404\n",
      "Epoch 2/19\n",
      "2169/2169 [==============================] - 0s 108us/step - loss: 8.7698 - mean_absolute_error: 8.7698\n",
      "Epoch 3/19\n",
      "2169/2169 [==============================] - 0s 108us/step - loss: 8.7193 - mean_absolute_error: 8.7193 0s - loss: 8.6838 - mean_absolute_error: 8.68\n",
      "Epoch 4/19\n",
      "2169/2169 [==============================] - 0s 100us/step - loss: 8.4055 - mean_absolute_error: 8.4055\n",
      "Epoch 5/19\n",
      "2169/2169 [==============================] - 0s 104us/step - loss: 8.6228 - mean_absolute_error: 8.6228\n",
      "Epoch 6/19\n",
      "2169/2169 [==============================] - 0s 106us/step - loss: 8.5790 - mean_absolute_error: 8.5790\n",
      "Epoch 7/19\n",
      "2169/2169 [==============================] - 0s 104us/step - loss: 8.5849 - mean_absolute_error: 8.5849\n",
      "Epoch 8/19\n",
      "2169/2169 [==============================] - 0s 103us/step - loss: 8.6001 - mean_absolute_error: 8.6001\n",
      "Epoch 9/19\n",
      "2169/2169 [==============================] - 0s 107us/step - loss: 8.4510 - mean_absolute_error: 8.4509\n",
      "Epoch 10/19\n",
      "2169/2169 [==============================] - 0s 118us/step - loss: 8.8572 - mean_absolute_error: 8.8572\n",
      "Epoch 11/19\n",
      "2169/2169 [==============================] - 0s 103us/step - loss: 8.5453 - mean_absolute_error: 8.5453\n",
      "Epoch 12/19\n",
      "2169/2169 [==============================] - 0s 113us/step - loss: 8.4761 - mean_absolute_error: 8.4761\n",
      "Epoch 13/19\n",
      "2169/2169 [==============================] - 0s 104us/step - loss: 8.2727 - mean_absolute_error: 8.2727\n",
      "Epoch 14/19\n",
      "2169/2169 [==============================] - 0s 110us/step - loss: 8.3021 - mean_absolute_error: 8.3021\n",
      "Epoch 15/19\n",
      "2169/2169 [==============================] - 0s 116us/step - loss: 8.4188 - mean_absolute_error: 8.4188\n",
      "Epoch 16/19\n",
      "2169/2169 [==============================] - 0s 109us/step - loss: 8.3460 - mean_absolute_error: 8.3460\n",
      "Epoch 17/19\n",
      "2169/2169 [==============================] - 0s 117us/step - loss: 8.2939 - mean_absolute_error: 8.2939\n",
      "Epoch 18/19\n",
      "2169/2169 [==============================] - 0s 116us/step - loss: 8.3211 - mean_absolute_error: 8.3211\n",
      "Epoch 19/19\n",
      "2169/2169 [==============================] - 0s 114us/step - loss: 8.4568 - mean_absolute_error: 8.4568\n",
      "8.061858413295298\n"
     ]
    }
   ],
   "source": [
    "NN_model = Sequential()\n",
    "NN_model.add(Dense(32, kernel_initializer='normal'))\n",
    "NN_model.add(Dense(1, kernel_initializer='normal'))    \n",
    "NN_model.add(Activation('linear'))\n",
    "NN_model.compile(loss='mean_absolute_error', optimizer='adam', metrics=['mean_absolute_error'])\n",
    "\n",
    "history=NN_model.fit(train[feature].values, train[target].values, epochs=19, batch_size=10)\n",
    "\n",
    "\n",
    "preds = NN_model.predict(val[feature].values) \n",
    "score = mean_absolute_error(val[target].values, preds)\n",
    "print(score)"
   ]
  },
  {
   "cell_type": "code",
   "execution_count": 51,
   "metadata": {},
   "outputs": [
    {
     "data": {
      "image/png": "[encoded data removed]",
      "text/plain": [
       "<Figure size 432x288 with 1 Axes>"
      ]
     },
     "metadata": {
      "needs_background": "light"
     },
     "output_type": "display_data"
    }
   ],
   "source": [
    "fig2, ax_loss = plt.subplots()\n",
    "plt.xlabel('Epoch')\n",
    "plt.ylabel('Loss')\n",
    "plt.title('Model- Loss')\n",
    "plt.legend(['Training', 'Validation'], loc='upper right')\n",
    "plt.plot(history.history['loss'])\n",
    "plt.plot(history.history['mean_absolute_error'])\n",
    "plt.show()"
   ]
  },
  {
   "cell_type": "code",
   "execution_count": 52,
   "metadata": {},
   "outputs": [],
   "source": [
    "# me=np.array([24, 1, 1997, 5.79, 4.5466, 9, 1.5, 0, 44])\n",
    "# data_test=(df.loc[df['death']==0]).copy()\n",
    "# data_test.drop(['death'],1,inplace=True)\n",
    "# data_test.loc[-1] = me\n",
    "# estimation = NN_model.predict(data_test[feature].values)"
   ]
  },
  {
   "cell_type": "code",
   "execution_count": 53,
   "metadata": {},
   "outputs": [],
   "source": [
    "# estimation[-1]\n",
    "# print(\"age: {}\".format(estimation[-1]))"
   ]
  },
  {
   "cell_type": "code",
   "execution_count": 54,
   "metadata": {},
   "outputs": [],
   "source": [
    "import lightgbm as lgb\n",
    "feature=[c for c in data_train.columns if c not in ['death']]\n",
    "target=df['death']"
   ]
  },
  {
   "cell_type": "code",
   "execution_count": 55,
   "metadata": {},
   "outputs": [],
   "source": [
    "from sklearn.model_selection import StratifiedKFold\n",
    "folds = StratifiedKFold(n_splits=10, shuffle=True, random_state=42)\n",
    "predict = np.zeros(len(df))\n",
    "feature_importance_df = pd.DataFrame()"
   ]
  },
  {
   "cell_type": "code",
   "execution_count": 56,
   "metadata": {},
   "outputs": [],
   "source": [
    "param={\n",
    "       'bagging_fraction': 0.33,\n",
    "       'boost_from_average':'false',\n",
    "       'boost': 'gbdt',\n",
    "       'max_depth': -1,\n",
    "       'metric':'auc',\n",
    "       'objective': 'binary',\n",
    "       'verbosity': 1\n",
    "    }"
   ]
  },
  {
   "cell_type": "code",
   "execution_count": 57,
   "metadata": {},
   "outputs": [
    {
     "name": "stdout",
     "output_type": "stream",
     "text": [
      "Fold 0\n",
      "Training until validation scores don't improve for 50 rounds\n",
      "Early stopping, best iteration is:\n",
      "[45]\ttraining's auc: 0.987486\tvalid_1's auc: 0.974658\n",
      "Fold 1\n",
      "Training until validation scores don't improve for 50 rounds\n",
      "Early stopping, best iteration is:\n",
      "[60]\ttraining's auc: 0.991244\tvalid_1's auc: 0.966846\n",
      "Fold 2\n",
      "Training until validation scores don't improve for 50 rounds\n",
      "Early stopping, best iteration is:\n",
      "[30]\ttraining's auc: 0.981549\tvalid_1's auc: 0.965349\n",
      "Fold 3\n",
      "Training until validation scores don't improve for 50 rounds\n",
      "Early stopping, best iteration is:\n",
      "[34]\ttraining's auc: 0.984133\tvalid_1's auc: 0.976503\n",
      "Fold 4\n",
      "Training until validation scores don't improve for 50 rounds\n",
      "Early stopping, best iteration is:\n",
      "[35]\ttraining's auc: 0.984737\tvalid_1's auc: 0.970022\n",
      "Fold 5\n",
      "Training until validation scores don't improve for 50 rounds\n",
      "Early stopping, best iteration is:\n",
      "[45]\ttraining's auc: 0.987724\tvalid_1's auc: 0.974824\n",
      "Fold 6\n",
      "Training until validation scores don't improve for 50 rounds\n",
      "Early stopping, best iteration is:\n",
      "[35]\ttraining's auc: 0.984584\tvalid_1's auc: 0.975568\n",
      "Fold 7\n",
      "Training until validation scores don't improve for 50 rounds\n",
      "Early stopping, best iteration is:\n",
      "[42]\ttraining's auc: 0.987388\tvalid_1's auc: 0.96488\n",
      "Fold 8\n",
      "Training until validation scores don't improve for 50 rounds\n",
      "Early stopping, best iteration is:\n",
      "[38]\ttraining's auc: 0.985921\tvalid_1's auc: 0.978228\n",
      "Fold 9\n",
      "Training until validation scores don't improve for 50 rounds\n",
      "Early stopping, best iteration is:\n",
      "[33]\ttraining's auc: 0.981272\tvalid_1's auc: 0.976966\n",
      "CV score: 0.97161 \n"
     ]
    }
   ],
   "source": [
    "from sklearn.metrics import roc_auc_score\n",
    "for fold_, (trn_idx, val_idx) in enumerate(folds.split(df.values, target.values)):\n",
    "    print(\"Fold {}\".format(fold_))\n",
    "    trn_data = lgb.Dataset(df.iloc[trn_idx][feature], label=target.iloc[trn_idx])\n",
    "    val_data = lgb.Dataset(df.iloc[val_idx][feature], label=target.iloc[val_idx])\n",
    "\n",
    "    num_round = 500\n",
    "    clf = lgb.train(param, trn_data, num_round, valid_sets = [trn_data, val_data], verbose_eval=1000, early_stopping_rounds = 50)\n",
    "    predict[val_idx] = clf.predict(df.iloc[val_idx][feature], num_iteration=clf.best_iteration)\n",
    "    \n",
    "    fold_importance_df = pd.DataFrame()\n",
    "    fold_importance_df[\"Feature\"] = feature\n",
    "    fold_importance_df[\"importance\"] = clf.feature_importance()\n",
    "    fold_importance_df[\"fold\"] = fold_ + 1\n",
    "    feature_importance_df = pd.concat([feature_importance_df, fold_importance_df], axis=0)\n",
    "    \n",
    "    \n",
    "\n",
    "print(\"CV score: {:<8.5f}\".format(roc_auc_score(target, predict)))"
   ]
  },
  {
   "cell_type": "code",
   "execution_count": 58,
   "metadata": {},
   "outputs": [
    {
     "data": {
      "text/html": [
       "<div>\n",
       "<style scoped>\n",
       "    .dataframe tbody tr th:only-of-type {\n",
       "        vertical-align: middle;\n",
       "    }\n",
       "\n",
       "    .dataframe tbody tr th {\n",
       "        vertical-align: top;\n",
       "    }\n",
       "\n",
       "    .dataframe thead th {\n",
       "        text-align: right;\n",
       "    }\n",
       "</style>\n",
       "<table border=\"1\" class=\"dataframe\">\n",
       "  <thead>\n",
       "    <tr style=\"text-align: right;\">\n",
       "      <th></th>\n",
       "      <th>Feature</th>\n",
       "      <th>importance</th>\n",
       "      <th>fold</th>\n",
       "    </tr>\n",
       "  </thead>\n",
       "  <tbody>\n",
       "    <tr>\n",
       "      <th>0</th>\n",
       "      <td>age</td>\n",
       "      <td>247</td>\n",
       "      <td>1</td>\n",
       "    </tr>\n",
       "    <tr>\n",
       "      <th>1</th>\n",
       "      <td>sex</td>\n",
       "      <td>26</td>\n",
       "      <td>1</td>\n",
       "    </tr>\n",
       "    <tr>\n",
       "      <th>2</th>\n",
       "      <td>sample.yr</td>\n",
       "      <td>249</td>\n",
       "      <td>1</td>\n",
       "    </tr>\n",
       "    <tr>\n",
       "      <th>3</th>\n",
       "      <td>kappa</td>\n",
       "      <td>137</td>\n",
       "      <td>1</td>\n",
       "    </tr>\n",
       "    <tr>\n",
       "      <th>4</th>\n",
       "      <td>lambda</td>\n",
       "      <td>165</td>\n",
       "      <td>1</td>\n",
       "    </tr>\n",
       "  </tbody>\n",
       "</table>\n",
       "</div>"
      ],
      "text/plain": [
       "     Feature  importance  fold\n",
       "0        age         247     1\n",
       "1        sex          26     1\n",
       "2  sample.yr         249     1\n",
       "3      kappa         137     1\n",
       "4     lambda         165     1"
      ]
     },
     "execution_count": 58,
     "metadata": {},
     "output_type": "execute_result"
    }
   ],
   "source": [
    "feature_importance_df.head()"
   ]
  },
  {
   "cell_type": "code",
   "execution_count": 59,
   "metadata": {},
   "outputs": [],
   "source": [
    "try1=feature_importance_df.groupby(['Feature'],as_index=False).mean()\n",
    "try1.drop(['fold'],1,inplace=True)"
   ]
  },
  {
   "cell_type": "code",
   "execution_count": 60,
   "metadata": {},
   "outputs": [
    {
     "data": {
      "text/plain": [
       "Text(0.5, 1.0, 'LightGBM Features (average_for_all_fold)')"
      ]
     },
     "execution_count": 60,
     "metadata": {},
     "output_type": "execute_result"
    },
    {
     "data": {
      "image/png": "[encoded data removed]",
      "text/plain": [
       "<Figure size 432x288 with 1 Axes>"
      ]
     },
     "metadata": {
      "needs_background": "light"
     },
     "output_type": "display_data"
    }
   ],
   "source": [
    "sns.barplot(x=\"importance\", y=\"Feature\", data=try1.sort_values(by=\"importance\", ascending=False))\n",
    "plt.title('LightGBM Features (average_for_all_fold)')"
   ]
  },
  {
   "cell_type": "code",
   "execution_count": null,
   "metadata": {},
   "outputs": [],
   "source": []
  }
 ],
 "metadata": {
  "kernelspec": {
   "display_name": "Python 3",
   "language": "python",
   "name": "python3"
  },
  "language_info": {
   "codemirror_mode": {
    "name": "ipython",
    "version": 3
   },
   "file_extension": ".py",
   "mimetype": "text/x-python",
   "name": "python",
   "nbconvert_exporter": "python",
   "pygments_lexer": "ipython3",
   "version": "3.7.3"
  }
 },
 "nbformat": 4,
 "nbformat_minor": 2
}
